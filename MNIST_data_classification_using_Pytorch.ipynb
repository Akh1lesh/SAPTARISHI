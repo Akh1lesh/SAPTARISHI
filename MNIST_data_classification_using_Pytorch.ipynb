{
  "nbformat": 4,
  "nbformat_minor": 0,
  "metadata": {
    "colab": {
      "provenance": []
    },
    "kernelspec": {
      "name": "python3",
      "display_name": "Python 3"
    },
    "language_info": {
      "name": "python"
    }
  },
  "cells": [
    {
      "cell_type": "code",
      "execution_count": 1,
      "metadata": {
        "id": "N-cVpCY4hj1W"
      },
      "outputs": [],
      "source": [
        "import torchvision\n",
        "import torchvision.datasets as datasets\n",
        "from torchvision import datasets, transforms\n",
        "import numpy as np\n",
        "from torch import nn, optim\n",
        "import matplotlib.pyplot as plt\n",
        "import torch"
      ]
    },
    {
      "cell_type": "code",
      "source": [
        "transform = transforms.Compose([transforms.ToTensor(),\n",
        "                              transforms.Normalize((0.5,), (0.5,)),\n",
        "                              ])"
      ],
      "metadata": {
        "id": "SkARvStDinfC"
      },
      "execution_count": 2,
      "outputs": []
    },
    {
      "cell_type": "code",
      "source": [
        "data_train = datasets.MNIST(root = \"./data/\",transform = transform, train = True,download = True)\n",
        "data_test = datasets.MNIST(root = \"./data/\",transform = transform, train = False,download = True)"
      ],
      "metadata": {
        "id": "4p1e1073hxML",
        "colab": {
          "base_uri": "https://localhost:8080/"
        },
        "outputId": "75527ff5-87e7-48d0-a335-f248df740b84"
      },
      "execution_count": 3,
      "outputs": [
        {
          "output_type": "stream",
          "name": "stdout",
          "text": [
            "Downloading http://yann.lecun.com/exdb/mnist/train-images-idx3-ubyte.gz\n",
            "Downloading http://yann.lecun.com/exdb/mnist/train-images-idx3-ubyte.gz to ./data/MNIST/raw/train-images-idx3-ubyte.gz\n"
          ]
        },
        {
          "output_type": "stream",
          "name": "stderr",
          "text": [
            "100%|██████████| 9912422/9912422 [00:00<00:00, 384533030.38it/s]"
          ]
        },
        {
          "output_type": "stream",
          "name": "stdout",
          "text": [
            "Extracting ./data/MNIST/raw/train-images-idx3-ubyte.gz to ./data/MNIST/raw\n"
          ]
        },
        {
          "output_type": "stream",
          "name": "stderr",
          "text": [
            "\n"
          ]
        },
        {
          "output_type": "stream",
          "name": "stdout",
          "text": [
            "\n",
            "Downloading http://yann.lecun.com/exdb/mnist/train-labels-idx1-ubyte.gz\n",
            "Downloading http://yann.lecun.com/exdb/mnist/train-labels-idx1-ubyte.gz to ./data/MNIST/raw/train-labels-idx1-ubyte.gz\n"
          ]
        },
        {
          "output_type": "stream",
          "name": "stderr",
          "text": [
            "100%|██████████| 28881/28881 [00:00<00:00, 144037685.88it/s]\n"
          ]
        },
        {
          "output_type": "stream",
          "name": "stdout",
          "text": [
            "Extracting ./data/MNIST/raw/train-labels-idx1-ubyte.gz to ./data/MNIST/raw\n",
            "\n",
            "Downloading http://yann.lecun.com/exdb/mnist/t10k-images-idx3-ubyte.gz\n",
            "Downloading http://yann.lecun.com/exdb/mnist/t10k-images-idx3-ubyte.gz to ./data/MNIST/raw/t10k-images-idx3-ubyte.gz\n"
          ]
        },
        {
          "output_type": "stream",
          "name": "stderr",
          "text": [
            "100%|██████████| 1648877/1648877 [00:00<00:00, 140853185.27it/s]\n"
          ]
        },
        {
          "output_type": "stream",
          "name": "stdout",
          "text": [
            "Extracting ./data/MNIST/raw/t10k-images-idx3-ubyte.gz to ./data/MNIST/raw\n",
            "\n",
            "Downloading http://yann.lecun.com/exdb/mnist/t10k-labels-idx1-ubyte.gz\n",
            "Downloading http://yann.lecun.com/exdb/mnist/t10k-labels-idx1-ubyte.gz to ./data/MNIST/raw/t10k-labels-idx1-ubyte.gz\n"
          ]
        },
        {
          "output_type": "stream",
          "name": "stderr",
          "text": [
            "100%|██████████| 4542/4542 [00:00<00:00, 13012656.26it/s]"
          ]
        },
        {
          "output_type": "stream",
          "name": "stdout",
          "text": [
            "Extracting ./data/MNIST/raw/t10k-labels-idx1-ubyte.gz to ./data/MNIST/raw\n",
            "\n"
          ]
        },
        {
          "output_type": "stream",
          "name": "stderr",
          "text": [
            "\n"
          ]
        }
      ]
    },
    {
      "cell_type": "code",
      "source": [
        "img, label = data_train[0]\n",
        "print(img.shape)\n",
        "print(label)"
      ],
      "metadata": {
        "colab": {
          "base_uri": "https://localhost:8080/"
        },
        "id": "rpiW6INjiDUC",
        "outputId": "37685892-49d4-46ea-8565-d735affd140a"
      },
      "execution_count": 4,
      "outputs": [
        {
          "output_type": "stream",
          "name": "stdout",
          "text": [
            "torch.Size([1, 28, 28])\n",
            "5\n"
          ]
        }
      ]
    },
    {
      "cell_type": "code",
      "source": [
        "img = img.squeeze(0)\n",
        "print(img.shape)"
      ],
      "metadata": {
        "colab": {
          "base_uri": "https://localhost:8080/"
        },
        "id": "ACxyByV_jTgn",
        "outputId": "bc0b076c-44be-43f3-9ebe-d3be00a379f9"
      },
      "execution_count": 5,
      "outputs": [
        {
          "output_type": "stream",
          "name": "stdout",
          "text": [
            "torch.Size([28, 28])\n"
          ]
        }
      ]
    },
    {
      "cell_type": "code",
      "source": [
        "img = np.asarray(img)\n",
        "print(img.shape)"
      ],
      "metadata": {
        "colab": {
          "base_uri": "https://localhost:8080/"
        },
        "id": "wjA8uP33jnw6",
        "outputId": "8696af68-3160-41fb-8406-0ae94f4f0433"
      },
      "execution_count": 6,
      "outputs": [
        {
          "output_type": "stream",
          "name": "stdout",
          "text": [
            "(28, 28)\n"
          ]
        }
      ]
    },
    {
      "cell_type": "code",
      "source": [
        "from PIL import Image as im\n",
        "img1 = im.fromarray(img)\n",
        "plt.imshow(img)"
      ],
      "metadata": {
        "colab": {
          "base_uri": "https://localhost:8080/",
          "height": 448
        },
        "id": "a5Xl8crUjwQx",
        "outputId": "decbff39-4401-4b8b-c94d-5a9028876860"
      },
      "execution_count": 7,
      "outputs": [
        {
          "output_type": "execute_result",
          "data": {
            "text/plain": [
              "<matplotlib.image.AxesImage at 0x7b40fa9b32b0>"
            ]
          },
          "metadata": {},
          "execution_count": 7
        },
        {
          "output_type": "display_data",
          "data": {
            "text/plain": [
              "<Figure size 640x480 with 1 Axes>"
            ],
            "image/png": "[encoded data removed]"
          },
          "metadata": {}
        }
      ]
    },
    {
      "cell_type": "code",
      "source": [
        "data_train_loader = torch.utils.data.DataLoader(dataset = data_train, batch_size = 8, shuffle = True)\n",
        "\n",
        "data_test_loader = torch.utils.data.DataLoader(dataset = data_test,  batch_size = 1, shuffle = True)"
      ],
      "metadata": {
        "id": "vXrV_-sekAFS"
      },
      "execution_count": 8,
      "outputs": []
    },
    {
      "cell_type": "code",
      "source": [
        "print(len(data_train))\n",
        "print(len(data_test))\n",
        "print(len(data_train_loader))\n",
        "print(len(data_test_loader))"
      ],
      "metadata": {
        "id": "u0w6H_Hym7lQ",
        "colab": {
          "base_uri": "https://localhost:8080/"
        },
        "outputId": "81c636f5-4df6-434b-9aeb-26f40a21def0"
      },
      "execution_count": 9,
      "outputs": [
        {
          "output_type": "stream",
          "name": "stdout",
          "text": [
            "60000\n",
            "10000\n",
            "7500\n",
            "10000\n"
          ]
        }
      ]
    },
    {
      "cell_type": "markdown",
      "source": [
        "#Model 1"
      ],
      "metadata": {
        "id": "icFWXTY9iNyy"
      }
    },
    {
      "cell_type": "code",
      "source": [
        "class Net1(nn.Module):\n",
        "  def __init__(self):\n",
        "    super().__init__()\n",
        "\n",
        "    self.layer1 = nn.Linear(784,10)\n",
        "\n",
        "  def forward(self,x):\n",
        "    x = x.view(x.size(0),-1)\n",
        "    x = self.layer1(x)\n",
        "    return x"
      ],
      "metadata": {
        "id": "db98RkBRpIsN"
      },
      "execution_count": 10,
      "outputs": []
    },
    {
      "cell_type": "code",
      "source": [
        "model = Net1()\n",
        "print(model)"
      ],
      "metadata": {
        "colab": {
          "base_uri": "https://localhost:8080/"
        },
        "id": "LtoKNOoQsO4u",
        "outputId": "ee0d2ae6-abca-45c1-e2f7-ee1fc09cf405"
      },
      "execution_count": 11,
      "outputs": [
        {
          "output_type": "stream",
          "name": "stdout",
          "text": [
            "Net1(\n",
            "  (layer1): Linear(in_features=784, out_features=10, bias=True)\n",
            ")\n"
          ]
        }
      ]
    },
    {
      "cell_type": "code",
      "source": [
        "cost = torch.nn.CrossEntropyLoss()\n",
        "optimizer = torch.optim.Adam(model.parameters())\n",
        "n_epochs = 5\n"
      ],
      "metadata": {
        "id": "lm-RLZACswxG"
      },
      "execution_count": 12,
      "outputs": []
    },
    {
      "cell_type": "code",
      "source": [
        "Train_Accuracy = []\n",
        "Test_Accuracy = []\n",
        "Train_loss = []\n",
        "Test_loss = []\n",
        "for epoch in range(n_epochs):\n",
        "  running_loss = 0.0\n",
        "  running_correct = 0.0\n",
        "  count = 0\n",
        "  for data in data_train_loader :\n",
        "    x_train,y_train = data\n",
        "    outputs = model(x_train)\n",
        "    _,pred = torch.max(outputs.data,1)\n",
        "    optimizer.zero_grad()\n",
        "    loss = cost(outputs,y_train)\n",
        "\n",
        "    count += 1\n",
        "    running_loss = running_loss + loss.data\n",
        "    running_correct = running_correct + torch.sum(pred == y_train.data)\n",
        "    # avg_loss = running_loss/count\n",
        "\n",
        "    # train_correct = 100 * (running_correct.item()/count)\n",
        "    # Train_Accuracy.append(train_correct)\n",
        "    loss.backward()\n",
        "    optimizer.step()\n",
        "  print(f\"Training : Epoch{epoch} , Avg_loss{running_loss/count}, loss{loss.item()},Accuracy:{(running_correct/len(data_train))*100}\")\n",
        "  avg_loss = running_loss/len(data_train)\n",
        "  avg_correct = running_correct/len(data_train)\n",
        "  Train_Accuracy.append(avg_correct * 100)\n",
        "  Train_loss.append(avg_loss)\n",
        "\n",
        "  running_loss = 0.0\n",
        "  test_correct = 0.0\n",
        "  count = 0\n",
        "  # Test_Accuracy = []\n",
        "  # Test_loss = []\n",
        "  for data in data_test_loader :\n",
        "    x_test,y_test = data\n",
        "    outputs = model(x_test)\n",
        "    _,pred = torch.max(outputs.data,1)\n",
        "    # optimizer.zero_grad()\n",
        "    loss = cost(outputs,y_test)\n",
        "\n",
        "    count += 1\n",
        "    running_loss = running_loss + loss.data\n",
        "    test_correct = test_correct + torch.sum(pred == y_test.data)\n",
        "    # avg_loss = running_loss/count\n",
        "    #print(f\"Epoch{epoch} , Avg_loss{running_loss/count}, loss{loss.item()},Accuracy:{(running_correct/count)*100}\")\n",
        "    # test_correct = 100 * (running_correct.item()/count)\n",
        "    # Test_Accuracy.append(test_correct)\n",
        "    # loss.backward()\n",
        "    # optimizer.step())\n",
        "  avg_loss = running_loss/len(data_test)\n",
        "  avg_correct = test_correct/len(data_test)\n",
        "  print(f\"Testing : Epoch{epoch} , Avg_loss{running_loss/len(data_test)}, loss{loss.item()},Accuracy:{(test_correct/len(data_test))*100}\")\n",
        "  Test_Accuracy.append(avg_correct*100)\n",
        "  Test_loss.append(avg_loss)"
      ],
      "metadata": {
        "colab": {
          "base_uri": "https://localhost:8080/"
        },
        "id": "obHeRch4tMbO",
        "outputId": "5f067004-0346-4182-93e2-459a818c07ee"
      },
      "execution_count": 13,
      "outputs": [
        {
          "output_type": "stream",
          "name": "stdout",
          "text": [
            "Training : Epoch0 , Avg_loss0.41320347785949707, loss0.143344447016716,Accuracy:87.87666320800781\n",
            "Testing : Epoch0 , Avg_loss0.3321690261363983, loss0.001956217223778367,Accuracy:90.62000274658203\n",
            "Training : Epoch1 , Avg_loss0.3512953519821167, loss1.0246236324310303,Accuracy:90.01499938964844\n",
            "Testing : Epoch1 , Avg_loss0.3204461336135864, loss0.016271408647298813,Accuracy:91.0199966430664\n",
            "Training : Epoch2 , Avg_loss0.3430839776992798, loss0.05507577210664749,Accuracy:90.4749984741211\n",
            "Testing : Epoch2 , Avg_loss0.33151158690452576, loss1.3470558769768104e-05,Accuracy:90.83000183105469\n",
            "Training : Epoch3 , Avg_loss0.337929368019104, loss0.007934421300888062,Accuracy:90.48500061035156\n",
            "Testing : Epoch3 , Avg_loss0.44289258122444153, loss0.0038448472041636705,Accuracy:87.38999938964844\n",
            "Training : Epoch4 , Avg_loss0.33156582713127136, loss0.45091772079467773,Accuracy:90.78333282470703\n",
            "Testing : Epoch4 , Avg_loss0.3180595338344574, loss3.755022044060752e-05,Accuracy:91.40999603271484\n"
          ]
        }
      ]
    },
    {
      "cell_type": "code",
      "source": [
        "print(count)"
      ],
      "metadata": {
        "colab": {
          "base_uri": "https://localhost:8080/"
        },
        "id": "hbc1QCKxjRZg",
        "outputId": "c90332b5-40b3-4e38-a766-e1d959377ca0"
      },
      "execution_count": 14,
      "outputs": [
        {
          "output_type": "stream",
          "name": "stdout",
          "text": [
            "10000\n"
          ]
        }
      ]
    },
    {
      "cell_type": "code",
      "source": [
        "Train_Accuracy"
      ],
      "metadata": {
        "colab": {
          "base_uri": "https://localhost:8080/"
        },
        "id": "sMTNzunx2jbw",
        "outputId": "8f438709-b8a9-40da-e54c-5441eb97555f"
      },
      "execution_count": 15,
      "outputs": [
        {
          "output_type": "execute_result",
          "data": {
            "text/plain": [
              "[tensor(87.8767),\n",
              " tensor(90.0150),\n",
              " tensor(90.4750),\n",
              " tensor(90.4850),\n",
              " tensor(90.7833)]"
            ]
          },
          "metadata": {},
          "execution_count": 15
        }
      ]
    },
    {
      "cell_type": "code",
      "source": [
        "Test_Accuracy"
      ],
      "metadata": {
        "colab": {
          "base_uri": "https://localhost:8080/"
        },
        "id": "owpQlCeLrVQ3",
        "outputId": "f5709350-c434-4f0d-f68a-88f760cb88ea"
      },
      "execution_count": 16,
      "outputs": [
        {
          "output_type": "execute_result",
          "data": {
            "text/plain": [
              "[tensor(90.6200),\n",
              " tensor(91.0200),\n",
              " tensor(90.8300),\n",
              " tensor(87.3900),\n",
              " tensor(91.4100)]"
            ]
          },
          "metadata": {},
          "execution_count": 16
        }
      ]
    },
    {
      "cell_type": "code",
      "source": [
        "plt.plot(Train_loss)"
      ],
      "metadata": {
        "colab": {
          "base_uri": "https://localhost:8080/",
          "height": 448
        },
        "id": "ualFtjpB6ll3",
        "outputId": "44a87b8e-948e-40cc-abb6-e305a20b3456"
      },
      "execution_count": 17,
      "outputs": [
        {
          "output_type": "execute_result",
          "data": {
            "text/plain": [
              "[<matplotlib.lines.Line2D at 0x7b40f87615d0>]"
            ]
          },
          "metadata": {},
          "execution_count": 17
        },
        {
          "output_type": "display_data",
          "data": {
            "text/plain": [
              "<Figure size 640x480 with 1 Axes>"
            ],
            "image/png": "[encoded data removed]"
          },
          "metadata": {}
        }
      ]
    },
    {
      "cell_type": "code",
      "source": [
        "Test_loss\n",
        "plt.plot(Test_loss)"
      ],
      "metadata": {
        "colab": {
          "base_uri": "https://localhost:8080/",
          "height": 448
        },
        "id": "FBYpKLpg6p8z",
        "outputId": "472f6a0f-e923-4e5e-b36c-4d38da38df08"
      },
      "execution_count": 18,
      "outputs": [
        {
          "output_type": "execute_result",
          "data": {
            "text/plain": [
              "[<matplotlib.lines.Line2D at 0x7b40f8500fd0>]"
            ]
          },
          "metadata": {},
          "execution_count": 18
        },
        {
          "output_type": "display_data",
          "data": {
            "text/plain": [
              "<Figure size 640x480 with 1 Axes>"
            ],
            "image/png": "[encoded data removed]"
          },
          "metadata": {}
        }
      ]
    },
    {
      "cell_type": "code",
      "source": [
        "plt.subplot(1,2,1)\n",
        "plt.xlabel('Epoch')\n",
        "plt.ylabel('Loss')\n",
        "plt.title('Training Loss')\n",
        "plt.plot(Train_loss)\n",
        "\n",
        "\n",
        "plt.subplot(1,2,2)\n",
        "plt.xlabel('Epoch')\n",
        "plt.ylabel('Loss')\n",
        "plt.title('Testing Loss')\n",
        "plt.plot(Test_loss)"
      ],
      "metadata": {
        "colab": {
          "base_uri": "https://localhost:8080/",
          "height": 490
        },
        "id": "laBWocdz__Ou",
        "outputId": "2ab4b1b1-aa51-4900-b9dc-7a03bb47c0b4"
      },
      "execution_count": 19,
      "outputs": [
        {
          "output_type": "execute_result",
          "data": {
            "text/plain": [
              "[<matplotlib.lines.Line2D at 0x7b40f85d1c00>]"
            ]
          },
          "metadata": {},
          "execution_count": 19
        },
        {
          "output_type": "display_data",
          "data": {
            "text/plain": [
              "<Figure size 640x480 with 2 Axes>"
            ],
            "image/png": "[encoded data removed]"
          },
          "metadata": {}
        }
      ]
    },
    {
      "cell_type": "markdown",
      "source": [
        "#Model 2"
      ],
      "metadata": {
        "id": "eHzFzMG4iUCE"
      }
    },
    {
      "cell_type": "code",
      "source": [
        "class Net2(nn.Module):\n",
        "  def __init__(self):\n",
        "    super(Net2,self).__init__()\n",
        "\n",
        "    self.layer1 = nn.Linear(784,10)\n",
        "    self.layer2 = nn.Linear(784,10)\n",
        "    self.layer3 = nn.Linear(784,10)\n",
        "    self.layer4 = nn.Linear(784,10)\n",
        "    self.layer5 = nn.Linear(40,10)\n",
        "\n",
        "  def forward(self,x):\n",
        "    x = x.view(x.size(0),-1)\n",
        "    x1 = self.layer1(x)\n",
        "    x2 = self.layer2(x)\n",
        "    x3 = self.layer3(x)\n",
        "    x4 = self.layer4(x)\n",
        "    y = torch.cat((x1,x2,x3,x4),1)\n",
        "    z = self.layer5(y)\n",
        "    return z"
      ],
      "metadata": {
        "id": "GlTcrEZEDWe1"
      },
      "execution_count": 20,
      "outputs": []
    },
    {
      "cell_type": "code",
      "source": [
        "model1 = Net2()\n",
        "print(model1)\n"
      ],
      "metadata": {
        "id": "T2g_7MVgEmvg",
        "colab": {
          "base_uri": "https://localhost:8080/"
        },
        "outputId": "65ab689e-73af-4fd0-ebad-7bf1c83f7d6e"
      },
      "execution_count": 21,
      "outputs": [
        {
          "output_type": "stream",
          "name": "stdout",
          "text": [
            "Net2(\n",
            "  (layer1): Linear(in_features=784, out_features=10, bias=True)\n",
            "  (layer2): Linear(in_features=784, out_features=10, bias=True)\n",
            "  (layer3): Linear(in_features=784, out_features=10, bias=True)\n",
            "  (layer4): Linear(in_features=784, out_features=10, bias=True)\n",
            "  (layer5): Linear(in_features=40, out_features=10, bias=True)\n",
            ")\n"
          ]
        }
      ]
    },
    {
      "cell_type": "code",
      "source": [
        "cost = torch.nn.CrossEntropyLoss()\n",
        "optimizer = torch.optim.Adam(model1.parameters())\n",
        "n_epochs = 5"
      ],
      "metadata": {
        "id": "-nWL4apgXffT"
      },
      "execution_count": 22,
      "outputs": []
    },
    {
      "cell_type": "code",
      "source": [
        "Train_Accuracy = []\n",
        "Test_Accuracy = []\n",
        "Train_loss = []\n",
        "Test_loss = []\n",
        "for epoch in range(n_epochs):\n",
        "  running_loss = 0.0\n",
        "  running_correct = 0.0\n",
        "  count = 0\n",
        "  for data in data_train_loader :\n",
        "    x_train,y_train = data\n",
        "    outputs = model1(x_train)\n",
        "    _,pred = torch.max(outputs.data,1)\n",
        "    optimizer.zero_grad()\n",
        "    loss = cost(outputs,y_train)\n",
        "\n",
        "    count += 1\n",
        "    running_loss = running_loss + loss.data\n",
        "    running_correct = running_correct + torch.sum(pred == y_train.data)\n",
        "    # avg_loss = running_loss/count\n",
        "\n",
        "    # train_correct = 100 * (running_correct.item()/count)\n",
        "    # Train_Accuracy.append(train_correct)\n",
        "    loss.backward()\n",
        "    optimizer.step()\n",
        "  print(f\"Training : Epoch{epoch} , Avg_loss{running_loss/len(data_train)}, loss{loss.item()},Accuracy:{(running_correct/len(data_train))*100}\")\n",
        "  avg_loss = running_loss/len(data_train)\n",
        "  avg_correct = running_correct/len(data_train)\n",
        "  Train_Accuracy.append(avg_correct * 100)\n",
        "  Train_loss.append(avg_loss)\n",
        "\n",
        "  running_loss = 0.0\n",
        "  test_correct = 0.0\n",
        "  count = 0\n",
        "  # Test_Accuracy = []\n",
        "  # Test_loss = []\n",
        "  for data in data_test_loader :\n",
        "    x_test,y_test = data\n",
        "    outputs = model1(x_test)\n",
        "    _,pred = torch.max(outputs.data,1)\n",
        "    # optimizer.zero_grad()\n",
        "    loss = cost(outputs,y_test)\n",
        "\n",
        "    count += 1\n",
        "    running_loss = running_loss + loss.data\n",
        "    test_correct = test_correct + torch.sum(pred == y_test.data)\n",
        "    # avg_loss = running_loss/count\n",
        "    #print(f\"Epoch{epoch} , Avg_loss{running_loss/count}, loss{loss.item()},Accuracy:{(running_correct/count)*100}\")\n",
        "    # test_correct = 100 * (running_correct.item()/count)\n",
        "    # Test_Accuracy.append(test_correct)\n",
        "    # loss.backward()\n",
        "    # optimizer.step())\n",
        "  avg_loss = running_loss/len(data_test)\n",
        "  avg_correct = test_correct/len(data_test)\n",
        "  print(f\"Testing : Epoch{epoch} , Avg_loss{running_loss/len(data_test)}, loss{loss.item()},Accuracy:{(test_correct/len(data_test))*100}\")\n",
        "  Test_Accuracy.append(avg_correct*100)\n",
        "  Test_loss.append(avg_loss)"
      ],
      "metadata": {
        "colab": {
          "base_uri": "https://localhost:8080/"
        },
        "id": "Iu6iECpzYbCw",
        "outputId": "1e1c2768-d96a-4892-c763-014e3219bf19"
      },
      "execution_count": 23,
      "outputs": [
        {
          "output_type": "stream",
          "name": "stdout",
          "text": [
            "Training : Epoch0 , Avg_loss0.052218932658433914, loss0.8389418125152588,Accuracy:87.62666320800781\n",
            "Testing : Epoch0 , Avg_loss0.3447544574737549, loss0.004295883700251579,Accuracy:90.29000091552734\n",
            "Training : Epoch1 , Avg_loss0.044173579663038254, loss0.5214653015136719,Accuracy:89.68499755859375\n",
            "Testing : Epoch1 , Avg_loss0.35139456391334534, loss0.0001679517881711945,Accuracy:89.94000244140625\n",
            "Training : Epoch2 , Avg_loss0.04251839965581894, loss0.2530691623687744,Accuracy:90.11833190917969\n",
            "Testing : Epoch2 , Avg_loss0.32515716552734375, loss2.253030106658116e-05,Accuracy:90.97000122070312\n",
            "Training : Epoch3 , Avg_loss0.041159920394420624, loss0.003271998604759574,Accuracy:90.43499755859375\n",
            "Testing : Epoch3 , Avg_loss0.3100743591785431, loss0.11113912612199783,Accuracy:91.41999816894531\n",
            "Training : Epoch4 , Avg_loss0.04028452932834625, loss0.15040592849254608,Accuracy:90.7249984741211\n",
            "Testing : Epoch4 , Avg_loss0.3262473940849304, loss0.4774090051651001,Accuracy:91.18000030517578\n"
          ]
        }
      ]
    },
    {
      "cell_type": "code",
      "source": [
        "Test_Accuracy"
      ],
      "metadata": {
        "colab": {
          "base_uri": "https://localhost:8080/"
        },
        "id": "WCsWWJyXcajb",
        "outputId": "e6d3b2fd-13d0-40bf-db28-4a98b7938765"
      },
      "execution_count": 24,
      "outputs": [
        {
          "output_type": "execute_result",
          "data": {
            "text/plain": [
              "[tensor(90.2900),\n",
              " tensor(89.9400),\n",
              " tensor(90.9700),\n",
              " tensor(91.4200),\n",
              " tensor(91.1800)]"
            ]
          },
          "metadata": {},
          "execution_count": 24
        }
      ]
    },
    {
      "cell_type": "code",
      "source": [
        "plt.subplot(1,2,1)\n",
        "plt.xlabel('Epoch')\n",
        "plt.ylabel('Loss')\n",
        "plt.title('Training Loss for Model2')\n",
        "plt.plot(Train_loss)\n",
        "\n",
        "\n",
        "plt.subplot(1,2,2)\n",
        "plt.xlabel('Epoch')\n",
        "plt.ylabel('Loss')\n",
        "plt.title('Testing Loss for Model2')\n",
        "plt.plot(Test_loss)"
      ],
      "metadata": {
        "colab": {
          "base_uri": "https://localhost:8080/",
          "height": 490
        },
        "id": "9kkMRXCbZQS5",
        "outputId": "cf760fd3-afb1-49bd-930a-af4783a4f84c"
      },
      "execution_count": 25,
      "outputs": [
        {
          "output_type": "execute_result",
          "data": {
            "text/plain": [
              "[<matplotlib.lines.Line2D at 0x7b40f86c2590>]"
            ]
          },
          "metadata": {},
          "execution_count": 25
        },
        {
          "output_type": "display_data",
          "data": {
            "text/plain": [
              "<Figure size 640x480 with 2 Axes>"
            ],
            "image/png": "[encoded data removed]"
          },
          "metadata": {}
        }
      ]
    },
    {
      "cell_type": "markdown",
      "source": [
        "#Model 3 -- CNN model"
      ],
      "metadata": {
        "id": "xFeaCHwTiZ-T"
      }
    },
    {
      "cell_type": "code",
      "source": [
        "class Model(nn.Module):\n",
        "\n",
        "  def __init__(self):\n",
        "    super(Model, self).__init__()\n",
        "    self.layer1 = nn.Conv2d(1,16,kernel_size=3, stride = 1, padding = 1,bias = False)\n",
        "    self.act1 = nn.ReLU(inplace = True)\n",
        "    self.m1 = nn.MaxPool2d(kernel_size = 3, stride=2,padding = 1)\n",
        "\n",
        "    self.layer2 = nn.Conv2d(16,32,kernel_size=3, stride = 1, padding = 1,bias = False)\n",
        "    self.act2 = nn.ReLU(inplace = True)\n",
        "    self.m2  = nn.MaxPool2d(kernel_size = 3, stride=2, padding = 1)\n",
        "\n",
        "    self.layer3 = nn.Conv2d(32,64,kernel_size=3, stride = 2, padding = 1,bias = False)\n",
        "    self.act3 = nn.ReLU(inplace = True)\n",
        "    self.layer4 = nn.Linear(1024,512)\n",
        "    self.layer5 = nn.Linear(512,10)\n",
        "\n",
        "  def forward(self,x):\n",
        "\n",
        "    x = self.layer1(x)\n",
        "    x = self.act1(x)\n",
        "    x = self.m1(x)\n",
        "    x = self.layer2(x)\n",
        "    x = self.act2(x)\n",
        "    x = self.m2(x)\n",
        "    x = self.layer3(x)\n",
        "    x = self.act3(x)\n",
        "    # x = self.m3(x)\n",
        "    x = x.view(x.size(0),-1)\n",
        "    x = self.layer4(x)\n",
        "    x = self.layer5(x)\n",
        "    return x\n"
      ],
      "metadata": {
        "id": "LuS8FF0YrlIJ"
      },
      "execution_count": 26,
      "outputs": []
    },
    {
      "cell_type": "code",
      "source": [
        "model2 = Model()\n",
        "print(model2)"
      ],
      "metadata": {
        "colab": {
          "base_uri": "https://localhost:8080/"
        },
        "id": "XFhAI5IR1pK0",
        "outputId": "21355550-7775-4257-bbb8-3680001ff799"
      },
      "execution_count": 27,
      "outputs": [
        {
          "output_type": "stream",
          "name": "stdout",
          "text": [
            "Model(\n",
            "  (layer1): Conv2d(1, 16, kernel_size=(3, 3), stride=(1, 1), padding=(1, 1), bias=False)\n",
            "  (act1): ReLU(inplace=True)\n",
            "  (m1): MaxPool2d(kernel_size=3, stride=2, padding=1, dilation=1, ceil_mode=False)\n",
            "  (layer2): Conv2d(16, 32, kernel_size=(3, 3), stride=(1, 1), padding=(1, 1), bias=False)\n",
            "  (act2): ReLU(inplace=True)\n",
            "  (m2): MaxPool2d(kernel_size=3, stride=2, padding=1, dilation=1, ceil_mode=False)\n",
            "  (layer3): Conv2d(32, 64, kernel_size=(3, 3), stride=(2, 2), padding=(1, 1), bias=False)\n",
            "  (act3): ReLU(inplace=True)\n",
            "  (layer4): Linear(in_features=1024, out_features=512, bias=True)\n",
            "  (layer5): Linear(in_features=512, out_features=10, bias=True)\n",
            ")\n"
          ]
        }
      ]
    },
    {
      "cell_type": "code",
      "source": [
        "cost = torch.nn.CrossEntropyLoss()\n",
        "optimizer = torch.optim.Adam(model2.parameters())\n",
        "n_epochs = 5"
      ],
      "metadata": {
        "id": "4ai1Xt-xe9YD"
      },
      "execution_count": 28,
      "outputs": []
    },
    {
      "cell_type": "code",
      "source": [
        "Train_Accuracy = []\n",
        "Test_Accuracy = []\n",
        "Train_loss = []\n",
        "Test_loss = []\n",
        "for epoch in range(n_epochs):\n",
        "  running_loss = 0.0\n",
        "  running_correct = 0.0\n",
        "  count = 0\n",
        "  for data in data_train_loader :\n",
        "    x_train,y_train = data\n",
        "    outputs = model2(x_train)\n",
        "    _,pred = torch.max(outputs.data,1)\n",
        "    optimizer.zero_grad()\n",
        "    loss = cost(outputs,y_train)\n",
        "\n",
        "    count += 1\n",
        "    running_loss = running_loss + loss.data\n",
        "    running_correct = running_correct + torch.sum(pred == y_train.data)\n",
        "    # avg_loss = running_loss/count\n",
        "\n",
        "    # train_correct = 100 * (running_correct.item()/count)\n",
        "    # Train_Accuracy.append(train_correct)\n",
        "    loss.backward()\n",
        "    optimizer.step()\n",
        "  print(f\"Training : Epoch{epoch} , Avg_loss{running_loss/len(data_train)}, loss{loss.item()},Accuracy:{(running_correct/len(data_train))*100}\")\n",
        "  avg_loss = running_loss/len(data_train)\n",
        "  avg_correct = running_correct/len(data_train)\n",
        "  Train_Accuracy.append(avg_correct * 100)\n",
        "  Train_loss.append(avg_loss)\n",
        "\n",
        "  running_loss = 0.0\n",
        "  test_correct = 0.0\n",
        "  count = 0\n",
        "  # Test_Accuracy = []\n",
        "  # Test_loss = []\n",
        "  for data in data_test_loader :\n",
        "    x_test,y_test = data\n",
        "    outputs = model2(x_test)\n",
        "    _,pred = torch.max(outputs.data,1)\n",
        "    # optimizer.zero_grad()\n",
        "    loss = cost(outputs,y_test)\n",
        "\n",
        "    count += 1\n",
        "    running_loss = running_loss + loss.data\n",
        "    test_correct = test_correct + torch.sum(pred == y_test.data)\n",
        "    # avg_loss = running_loss/count\n",
        "    #print(f\"Epoch{epoch} , Avg_loss{running_loss/count}, loss{loss.item()},Accuracy:{(running_correct/count)*100}\")\n",
        "    # test_correct = 100 * (running_correct.item()/count)\n",
        "    # Test_Accuracy.append(test_correct)\n",
        "    # loss.backward()\n",
        "    # optimizer.step())\n",
        "  avg_loss = running_loss/len(data_test)\n",
        "  avg_correct = test_correct/len(data_test)\n",
        "  print(f\"Testing : Epoch{epoch} , Avg_loss{running_loss/len(data_test)}, loss{loss.item()},Accuracy:{(test_correct/len(data_test))*100}\")\n",
        "  Test_Accuracy.append(avg_correct*100)\n",
        "  Test_loss.append(avg_loss)"
      ],
      "metadata": {
        "colab": {
          "base_uri": "https://localhost:8080/"
        },
        "id": "6zSo5iXZyJE4",
        "outputId": "4f2df7bc-979f-4783-db91-c99618fef347"
      },
      "execution_count": 29,
      "outputs": [
        {
          "output_type": "stream",
          "name": "stdout",
          "text": [
            "Training : Epoch0 , Avg_loss0.01596781238913536, loss0.7190964818000793,Accuracy:95.97000122070312\n",
            "Testing : Epoch0 , Avg_loss0.05467376857995987, loss1.5139465176616795e-05,Accuracy:98.22000122070312\n",
            "Training : Epoch1 , Avg_loss0.008576401509344578, loss0.0004519453505054116,Accuracy:98.0199966430664\n",
            "Testing : Epoch1 , Avg_loss0.04545815289020538, loss0.0,Accuracy:98.65999603271484\n",
            "Training : Epoch2 , Avg_loss0.007437215186655521, loss1.2621015230251942e-05,Accuracy:98.23333740234375\n",
            "Testing : Epoch2 , Avg_loss0.046834252774715424, loss1.1920928244535389e-07,Accuracy:98.68999481201172\n",
            "Training : Epoch3 , Avg_loss0.006603951100260019, loss5.2783907449338585e-05,Accuracy:98.4183349609375\n",
            "Testing : Epoch3 , Avg_loss0.051446545869112015, loss1.0609570381348021e-05,Accuracy:98.52999877929688\n",
            "Training : Epoch4 , Avg_loss0.006338047794997692, loss0.0005512546049430966,Accuracy:98.48999786376953\n",
            "Testing : Epoch4 , Avg_loss0.038690321147441864, loss0.14838790893554688,Accuracy:98.65999603271484\n"
          ]
        }
      ]
    },
    {
      "cell_type": "code",
      "source": [
        "print(Train_Accuracy)"
      ],
      "metadata": {
        "colab": {
          "base_uri": "https://localhost:8080/"
        },
        "id": "pQFBuQ9hioiJ",
        "outputId": "97b8b6d9-9ce5-4ef5-bb9e-7348b4a4e45a"
      },
      "execution_count": 30,
      "outputs": [
        {
          "output_type": "stream",
          "name": "stdout",
          "text": [
            "[tensor(95.9700), tensor(98.0200), tensor(98.2333), tensor(98.4183), tensor(98.4900)]\n"
          ]
        }
      ]
    },
    {
      "cell_type": "code",
      "source": [
        "print(Test_Accuracy)"
      ],
      "metadata": {
        "colab": {
          "base_uri": "https://localhost:8080/"
        },
        "id": "G0-NiT3Biskk",
        "outputId": "1fa03100-b986-4e88-80dc-65e3a75b8398"
      },
      "execution_count": 31,
      "outputs": [
        {
          "output_type": "stream",
          "name": "stdout",
          "text": [
            "[tensor(98.2200), tensor(98.6600), tensor(98.6900), tensor(98.5300), tensor(98.6600)]\n"
          ]
        }
      ]
    },
    {
      "cell_type": "code",
      "source": [
        "plt.subplot(1,2,1)\n",
        "plt.xlabel('Epoch')\n",
        "plt.ylabel('Loss')\n",
        "plt.title('Training Loss for Model3')\n",
        "plt.plot(Train_loss)\n",
        "\n",
        "\n",
        "plt.subplot(1,2,2)\n",
        "plt.xlabel('Epoch')\n",
        "plt.ylabel('Loss')\n",
        "plt.title('Testing Loss for Model3')\n",
        "plt.plot(Test_loss)"
      ],
      "metadata": {
        "id": "uuiS8xNQ1VcY",
        "colab": {
          "base_uri": "https://localhost:8080/",
          "height": 490
        },
        "outputId": "eec98679-4d7c-4f40-ac5c-3448f7470665"
      },
      "execution_count": 32,
      "outputs": [
        {
          "output_type": "execute_result",
          "data": {
            "text/plain": [
              "[<matplotlib.lines.Line2D at 0x7b40f84c2c20>]"
            ]
          },
          "metadata": {},
          "execution_count": 32
        },
        {
          "output_type": "display_data",
          "data": {
            "text/plain": [
              "<Figure size 640x480 with 2 Axes>"
            ],
            "image/png": "[encoded data removed]"
          },
          "metadata": {}
        }
      ]
    },
    {
      "cell_type": "code",
      "source": [],
      "metadata": {
        "id": "Oldy_pIMiv1v"
      },
      "execution_count": 32,
      "outputs": []
    }
  ]
}